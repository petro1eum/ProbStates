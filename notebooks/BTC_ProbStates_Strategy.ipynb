{
  "cells": [
    {
      "cell_type": "markdown",
      "metadata": {},
      "source": [
        "# BTC: ProbStates Strategy Backtest\n",
        "\n",
        "Этот ноутбук демонстрирует профессиональный бэктест стратегии на Bitcoin с использованием ProbStates:\n",
        "- мэппинг сотен/тысяч гетерогенных сигналов в вероятности (L2) и фазы (L4)\n",
        "- робастная агрегация ⊕₄ (режим 'weight')\n",
        "- стресс‑тесты под шумами\n",
        "- метрики: CAGR, Sharpe, максимальная просадка\n",
        "\n",
        "Внимание: это исследовательский материал, не является инвестиционной рекомендацией.\n"
      ]
    },
    {
      "cell_type": "code",
      "execution_count": 1,
      "metadata": {},
      "outputs": [
        {
          "ename": "ModuleNotFoundError",
          "evalue": "No module named 'pandas'",
          "output_type": "error",
          "traceback": [
            "\u001b[31m---------------------------------------------------------------------------\u001b[39m",
            "\u001b[31mModuleNotFoundError\u001b[39m                       Traceback (most recent call last)",
            "\u001b[36mCell\u001b[39m\u001b[36m \u001b[39m\u001b[32mIn[1]\u001b[39m\u001b[32m, line 3\u001b[39m\n\u001b[32m      1\u001b[39m \u001b[38;5;66;03m# !pip install yfinance pandas numpy matplotlib --quiet\u001b[39;00m\n\u001b[32m      2\u001b[39m \u001b[38;5;28;01mimport\u001b[39;00m\u001b[38;5;250m \u001b[39m\u001b[34;01mnumpy\u001b[39;00m\u001b[38;5;250m \u001b[39m\u001b[38;5;28;01mas\u001b[39;00m\u001b[38;5;250m \u001b[39m\u001b[34;01mnp\u001b[39;00m\n\u001b[32m----> \u001b[39m\u001b[32m3\u001b[39m \u001b[38;5;28;01mimport\u001b[39;00m\u001b[38;5;250m \u001b[39m\u001b[34;01mpandas\u001b[39;00m\u001b[38;5;250m \u001b[39m\u001b[38;5;28;01mas\u001b[39;00m\u001b[38;5;250m \u001b[39m\u001b[34;01mpd\u001b[39;00m\n\u001b[32m      4\u001b[39m \u001b[38;5;28;01mimport\u001b[39;00m\u001b[38;5;250m \u001b[39m\u001b[34;01mmatplotlib\u001b[39;00m\u001b[34;01m.\u001b[39;00m\u001b[34;01mpyplot\u001b[39;00m\u001b[38;5;250m \u001b[39m\u001b[38;5;28;01mas\u001b[39;00m\u001b[38;5;250m \u001b[39m\u001b[34;01mplt\u001b[39;00m\n\u001b[32m      5\u001b[39m \u001b[38;5;28;01mimport\u001b[39;00m\u001b[38;5;250m \u001b[39m\u001b[34;01myfinance\u001b[39;00m\u001b[38;5;250m \u001b[39m\u001b[38;5;28;01mas\u001b[39;00m\u001b[38;5;250m \u001b[39m\u001b[34;01myf\u001b[39;00m\n",
            "\u001b[31mModuleNotFoundError\u001b[39m: No module named 'pandas'"
          ]
        }
      ],
      "source": [
        "# !pip install yfinance pandas numpy matplotlib --quiet\n",
        "import numpy as np\n",
        "import pandas as pd\n",
        "import matplotlib.pyplot as plt\n",
        "import yfinance as yf\n",
        "\n",
        "from probstates.markets import (\n",
        "    sma, momentum, rsi, indicator_to_prob, sentiment_to_phase,\n",
        "    FeatureSpec, aggregate_specs, btc_signal_from_arrays,\n",
        ")\n",
        "from probstates import set_phase_or_mode\n",
        "from probstates.coherence import dephase, amp_damp\n",
        "\n",
        "plt.rcParams['figure.figsize'] = (12, 5)\n",
        "\n"
      ]
    },
    {
      "cell_type": "code",
      "execution_count": null,
      "metadata": {},
      "outputs": [],
      "source": [
        "# Load BTC-USD daily data\n",
        "start, end = '2018-01-01', '2025-01-01'\n",
        "df = yf.download('BTC-USD', start=start, end=end, progress=False)\n",
        "df = df[['Close']].dropna().copy()\n",
        "\n",
        "df['mom10'] = momentum(df['Close'].values, 10)\n",
        "df['rsi14'] = rsi(df['Close'].values, 14)\n",
        "df['sma20'] = sma(df['Close'].values, 20)\n",
        "df['sma50'] = sma(df['Close'].values, 50)\n",
        "\n",
        "df.dropna(inplace=True)\n",
        "df.head()\n"
      ]
    },
    {
      "cell_type": "code",
      "execution_count": null,
      "metadata": {},
      "outputs": [],
      "source": [
        "def build_specs(row) -> list:\n",
        "    specs = []\n",
        "    # momentum\n",
        "    p_mom = float(indicator_to_prob(np.array([row['mom10']]))[-1])\n",
        "    phi_mom = 0.0 if row['mom10'] >= 0 else np.pi\n",
        "    specs.append(FeatureSpec('momentum_10', p_mom, phi_mom, weight=2))\n",
        "    # rsi\n",
        "    p_rsi = float(indicator_to_prob(np.array([row['rsi14']]), center=50.0, k=1.2)[-1])\n",
        "    phi_rsi = 0.0 if row['rsi14'] >= 50 else np.pi\n",
        "    specs.append(FeatureSpec('rsi_14', p_rsi, phi_rsi, weight=1))\n",
        "    # ma cross\n",
        "    cross = float(row['sma20'] - row['sma50'])\n",
        "    p_cross = float(indicator_to_prob(np.array([cross]))[-1])\n",
        "    phi_cross = 0.0 if cross >= 0 else np.pi\n",
        "    specs.append(FeatureSpec('sma20_vs_50', p_cross, phi_cross, weight=2))\n",
        "    return specs\n",
        "\n",
        "set_phase_or_mode('weight')\n",
        "\n",
        "agg_p = []\n",
        "for _, r in df.iterrows():\n",
        "    agg = aggregate_specs(build_specs(r), mode='weight')\n",
        "    agg_p.append(agg.probability)\n",
        "\n",
        "df['agg_p'] = agg_p\n",
        "df[['Close','agg_p']].tail()\n"
      ]
    },
    {
      "cell_type": "code",
      "execution_count": null,
      "metadata": {},
      "outputs": [],
      "source": [
        "# Simple rules: buy if p>=0.55, sell if p<=0.45, else hold\n",
        "buy_thr, sell_thr = 0.55, 0.45\n",
        "pos = 0.0\n",
        "positions = []\n",
        "for p in df['agg_p'].values:\n",
        "    if p >= buy_thr:\n",
        "        pos = 1.0\n",
        "    elif p <= sell_thr:\n",
        "        pos = 0.0\n",
        "    positions.append(pos)\n",
        "\n",
        "df['pos'] = positions\n",
        "\n",
        "# Backtest with fees/slippage\n",
        "fee = 0.001  # 10 bps per trade\n",
        "ret = df['Close'].pct_change().fillna(0.0)\n",
        "trade = np.abs(np.diff([0.0, *df['pos'].values]))\n",
        "strategy_ret = df['pos'].shift(1).fillna(0.0) * ret - fee * trade\n",
        "\n",
        "def metrics(series: pd.Series) -> dict:\n",
        "    x = series.dropna().values\n",
        "    ann = np.prod(1.0 + x) ** (252/len(x)) - 1.0\n",
        "    vol = np.std(x) * np.sqrt(252)\n",
        "    sharpe = ann / (vol + 1e-12)\n",
        "    curve = (1.0 + x).cumprod()\n",
        "    peak = np.maximum.accumulate(curve)\n",
        "    mdd = float(np.max((peak - curve)/peak))\n",
        "    return dict(CAGR=ann, Sharpe=sharpe, MDD=mdd)\n",
        "\n",
        "bench = ret  # buy&hold\n",
        "m_strat = metrics(strategy_ret)\n",
        "m_bench = metrics(bench)\n",
        "print('Strategy:', {k: round(v,3) for k,v in m_strat.items()})\n",
        "print('Buy&Hold:', {k: round(v,3) for k,v in m_bench.items()})\n",
        "\n",
        "(1.0 + bench).cumprod().plot(label='Buy&Hold')\n",
        "(1.0 + strategy_ret).cumprod().plot(label='ProbStates')\n",
        "plt.legend(); plt.title('Equity curves'); plt.show()\n"
      ]
    },
    {
      "cell_type": "code",
      "execution_count": null,
      "metadata": {},
      "outputs": [],
      "source": [
        "# Robustness stress: phase/noise sweeps\n",
        "sigmas = [0.0, 0.05, 0.1, 0.2]\n",
        "fees = [0.0005, 0.001, 0.002]\n",
        "res = []\n",
        "for s in sigmas:\n",
        "    for f in fees:\n",
        "        pos = 0.0\n",
        "        eq = 1.0\n",
        "        last_p = 0.0\n",
        "        for p in df['agg_p'].values:\n",
        "            # noisy probability via simple damping proxy\n",
        "            p_noisy = float(amp_damp(dephase(PhaseState(p,0.0), s), alpha=s/2).probability)\n",
        "            if p_noisy >= buy_thr and last_p < 1.0:\n",
        "                eq *= (1.0 - f)\n",
        "                last_p = 1.0\n",
        "            elif p_noisy <= sell_thr and last_p > 0.0:\n",
        "                eq *= (1.0 - f)\n",
        "                last_p = 0.0\n",
        "        res.append((s, f, eq))\n",
        "\n",
        "res[:5]\n"
      ]
    }
  ],
  "metadata": {
    "kernelspec": {
      "display_name": ".venv",
      "language": "python",
      "name": "python3"
    },
    "language_info": {
      "codemirror_mode": {
        "name": "ipython",
        "version": 3
      },
      "file_extension": ".py",
      "mimetype": "text/x-python",
      "name": "python",
      "nbconvert_exporter": "python",
      "pygments_lexer": "ipython3",
      "version": "3.13.5"
    }
  },
  "nbformat": 4,
  "nbformat_minor": 2
}
