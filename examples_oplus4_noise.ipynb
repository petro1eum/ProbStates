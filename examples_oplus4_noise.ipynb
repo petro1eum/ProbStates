{
  "cells": [
    {
      "cell_type": "markdown",
      "metadata": {},
      "source": [
        "# ⊕₄ modes under noise: phase interference and robustness\n",
        "\n",
        "This notebook compares Level-4 OR operation modes ('quant', 'norm', 'weight', 'opt') across phase differences Δφ and under simple noise channels (phase dephasing and amplitude damping). It plots resulting probabilities F(Δφ) and shows how noise affects interference patterns.\n",
        "\n",
        "Requirements: numpy, matplotlib, ProbStates >= v0.2 with PhaseRegister extensions.\n",
        "\n"
      ]
    },
    {
      "cell_type": "code",
      "execution_count": null,
      "metadata": {},
      "outputs": [],
      "source": [
        "import numpy as np\n",
        "import matplotlib.pyplot as plt\n",
        "from probstates import PhaseState, set_phase_or_mode\n",
        "from probstates.coherence import amp_damp, dephase\n",
        "\n",
        "np.set_printoptions(precision=4, suppress=True)\n"
      ]
    },
    {
      "cell_type": "code",
      "execution_count": null,
      "metadata": {},
      "outputs": [],
      "source": [
        "def oplus4_prob(p1, phi1, p2, phi2, mode='quant'):\n",
        "    set_phase_or_mode(mode)\n",
        "    a = PhaseState(p1, phi1)\n",
        "    b = PhaseState(p2, phi2)\n",
        "    c = a | b\n",
        "    return c.probability, c.phase\n",
        "\n",
        "modes = ['quant', 'norm', 'weight', 'opt']\n",
        "\n",
        "def sweep_delta_phi(p1=0.5, p2=0.5, phi1=0.0, num=361):\n",
        "    deltas = np.linspace(0.0, 2*np.pi, num)\n",
        "    results = {mode: [] for mode in modes}\n",
        "    for d in deltas:\n",
        "        for mode in modes:\n",
        "            pr, _ = oplus4_prob(p1, phi1, p2, phi1 + d, mode)\n",
        "            results[mode].append(pr)\n",
        "    for mode in modes:\n",
        "        results[mode] = np.array(results[mode])\n",
        "    return deltas, results\n"
      ]
    },
    {
      "cell_type": "code",
      "execution_count": null,
      "metadata": {},
      "outputs": [],
      "source": [
        "# Sweep and plot F(Δφ) for different modes\n",
        "\n",
        "deltas, results = sweep_delta_phi(p1=0.4, p2=0.6, phi1=0.0, num=361)\n",
        "plt.figure(figsize=(9,5))\n",
        "for mode, y in results.items():\n",
        "    plt.plot(deltas, y, label=mode)\n",
        "plt.xlabel(\"Δφ (rad)\")\n",
        "plt.ylabel(\"F = P( a ⊕₄ b )\")\n",
        "plt.title(\"⊕₄ modes: probability vs phase difference\")\n",
        "plt.legend()\n",
        "plt.grid(True, alpha=0.3)\n",
        "plt.show()\n"
      ]
    },
    {
      "cell_type": "code",
      "execution_count": null,
      "metadata": {},
      "outputs": [],
      "source": [
        "# Noise effect: apply dephasing and amplitude damping to inputs, then combine\n",
        "\n",
        "def oplus4_with_noise(p1=0.5, p2=0.5, phi1=0.0, phi2=1.0, mode='quant', sigma_phi=0.0, alpha=0.0):\n",
        "    set_phase_or_mode(mode)\n",
        "    a = PhaseState(p1, phi1)\n",
        "    b = PhaseState(p2, phi2)\n",
        "    if sigma_phi > 0:\n",
        "        a = dephase(a, sigma_phi=sigma_phi)\n",
        "        b = dephase(b, sigma_phi=sigma_phi)\n",
        "    if alpha > 0:\n",
        "        a = amp_damp(a, alpha)\n",
        "        b = amp_damp(b, alpha)\n",
        "    c = a | b\n",
        "    return c.probability\n",
        "\n",
        "sigmas = [0.0, 0.2, 0.5]\n",
        "alpha = 0.3\n",
        "p1, p2, phi1 = 0.5, 0.5, 0.0\n",
        "deltas = np.linspace(0.0, 2*np.pi, 181)\n",
        "\n",
        "plt.figure(figsize=(10,6))\n",
        "for mode, color in zip(modes, ['C0','C1','C2','C3']):\n",
        "    for s in sigmas:\n",
        "        y = [oplus4_with_noise(p1, p2, phi1, phi1 + d, mode=mode, sigma_phi=s, alpha=alpha) for d in deltas]\n",
        "        plt.plot(deltas, y, color=color, alpha=0.4 + 0.2*(s==0.0), label=f\"{mode}, σφ={s}\")\n",
        "plt.xlabel(\"Δφ (rad)\")\n",
        "plt.ylabel(\"F with noise\")\n",
        "plt.title(\"Noise effect on ⊕₄ modes (dephase σφ, amp damp α=0.3)\")\n",
        "plt.legend(ncol=2)\n",
        "plt.grid(True, alpha=0.3)\n",
        "plt.show()\n"
      ]
    }
  ],
  "metadata": {
    "language_info": {
      "name": "python"
    }
  },
  "nbformat": 4,
  "nbformat_minor": 2
}
